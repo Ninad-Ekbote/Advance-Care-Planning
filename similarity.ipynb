{
 "cells": [
  {
   "cell_type": "code",
   "execution_count": 115,
   "metadata": {},
   "outputs": [],
   "source": [
    "import pandas as pd\n",
    "import warnings\n",
    "from sklearn.metrics.pairwise import cosine_similarity\n",
    "from sentence_transformers import SentenceTransformer\n",
    "model = SentenceTransformer('all-MiniLM-L6-v2')\n",
    "warnings.simplefilter(\"ignore\")"
   ]
  },
  {
   "cell_type": "code",
   "execution_count": 116,
   "metadata": {},
   "outputs": [],
   "source": [
    "def similarity_1(sentence1, sentence2):\n",
    "    \n",
    "\n",
    "    embeddings = model.encode([sentence1, sentence2])\n",
    "\n",
    "\n",
    "    similarity = cosine_similarity([embeddings[0]], [embeddings[1]])[0][0]\n",
    "\n",
    "    return similarity\n",
    "\n",
    "\n"
   ]
  },
  {
   "cell_type": "code",
   "execution_count": 118,
   "metadata": {},
   "outputs": [],
   "source": [
    "fname_LLM = 'Sonar Huge ACP.xlsx'\n",
    "fname_Human = \"Human_annotation.csv\"\n",
    "\n"
   ]
  },
  {
   "cell_type": "code",
   "execution_count": 119,
   "metadata": {},
   "outputs": [],
   "source": [
    "\n",
    "def similarity_score(fname_LLM, fname_Human):\n",
    "    LLm_csv  =pd.read_excel(fname_LLM)\n",
    "    Human_annotation = pd.read_csv(fname_Human)\n",
    "\n",
    "    column_similarity = {}\n",
    "\n",
    "    LLM_head = []\n",
    "    for g in LLm_csv.columns:\n",
    "        LLM_head.append(g)\n",
    "        column_similarity[g]=0\n",
    "\n",
    "    human = []\n",
    "    for g in Human_annotation.columns:\n",
    "        if g==\"Note\":\n",
    "            continue\n",
    "        human.append(g)\n",
    "\n",
    "    column_similarity\n",
    "    \n",
    "    cell_simi = 0\n",
    "    \n",
    "    column_simi = 0\n",
    "    curr_sum = 0\n",
    "    total_sum=0\n",
    "    count = 0\n",
    "    for i, j in zip(LLm_csv.iterrows(), Human_annotation.iterrows()):\n",
    "\n",
    "        for k,g in zip(LLM_head, human):\n",
    "            if k==\"Id\":\n",
    "                continue\n",
    "\n",
    "            if pd.isna(i[1][k]) or pd.isna(j[1][g]):\n",
    "                continue\n",
    "            one = i[1][k]\n",
    "            two = j[1][g]\n",
    "            cell_simi = similarity_1(one, two)\n",
    "            #print(cell_simi)\n",
    "            column_similarity[k]+=cell_simi \n",
    "        \n",
    "        if count==60:\n",
    "            break\n",
    "        count+=1\n",
    "\n",
    "    return column_similarity"
   ]
  },
  {
   "cell_type": "code",
   "execution_count": 120,
   "metadata": {},
   "outputs": [],
   "source": [
    "dict = similarity_score(fname_LLM, fname_Human)\n",
    "total = sum(dict.values())"
   ]
  },
  {
   "cell_type": "code",
   "execution_count": 121,
   "metadata": {},
   "outputs": [
    {
     "data": {
      "text/plain": [
       "0.5619328008395517"
      ]
     },
     "execution_count": 121,
     "metadata": {},
     "output_type": "execute_result"
    }
   ],
   "source": [
    "total/(60*6)"
   ]
  },
  {
   "cell_type": "code",
   "execution_count": 123,
   "metadata": {},
   "outputs": [
    {
     "data": {
      "text/plain": [
       "{'Id': 0.0,\n",
       " \"Patient's ConditionÂ\\xa0\": 0.7996357128024101,\n",
       " 'Main ConcernsÂ\\xa0': 0.5780790468056997,\n",
       " \"Patient's WishesÂ\\xa0\": 0.4478987782262266,\n",
       " 'Decision-MakerÂ\\xa0': 0.5977892811099689,\n",
       " 'DocumentationÂ\\xa0': 0.45834929322203,\n",
       " 'Next StepsÂ\\xa0': 0.48984469287097454}"
      ]
     },
     "execution_count": 123,
     "metadata": {},
     "output_type": "execute_result"
    }
   ],
   "source": [
    "for i in dict:\n",
    "\n",
    "    dict[i]/=60\n",
    "\n",
    "dict"
   ]
  },
  {
   "cell_type": "code",
   "execution_count": null,
   "metadata": {},
   "outputs": [],
   "source": []
  }
 ],
 "metadata": {
  "kernelspec": {
   "display_name": "base",
   "language": "python",
   "name": "python3"
  },
  "language_info": {
   "codemirror_mode": {
    "name": "ipython",
    "version": 3
   },
   "file_extension": ".py",
   "mimetype": "text/x-python",
   "name": "python",
   "nbconvert_exporter": "python",
   "pygments_lexer": "ipython3",
   "version": "3.12.4"
  }
 },
 "nbformat": 4,
 "nbformat_minor": 2
}
